{
  "nbformat": 4,
  "nbformat_minor": 0,
  "metadata": {
    "colab": {
      "name": "Copy of DebuggedStockPrediction with model deployment.ipynb",
      "version": "0.3.2",
      "provenance": [],
      "collapsed_sections": [],
      "toc_visible": true,
      "include_colab_link": true
    },
    "kernelspec": {
      "display_name": "Python 3",
      "language": "python",
      "name": "python3"
    }
  },
  "cells": [
    {
      "cell_type": "markdown",
      "metadata": {
        "id": "view-in-github",
        "colab_type": "text"
      },
      "source": [
        "<a href=\"https://colab.research.google.com/github/chaitubhure/Options-Writing-Predictions/blob/master/Copy_of_DebuggedStockPrediction_with_model_deployment.ipynb\" target=\"_parent\"><img src=\"https://colab.research.google.com/assets/colab-badge.svg\" alt=\"Open In Colab\"/></a>"
      ]
    },
    {
      "cell_type": "markdown",
      "metadata": {
        "id": "oinEVakH0mez",
        "colab_type": "text"
      },
      "source": [
        "## Stock Prediction model with Tensorflow 2.0! \n",
        "\n",
        "We're going to predict prices of General Electric's stock using a Transformer neural network"
      ]
    },
    {
      "cell_type": "markdown",
      "metadata": {
        "id": "AYqd4GC1W2UU",
        "colab_type": "text"
      },
      "source": [
        "**IMPORT DATA FROM DRIVE**"
      ]
    },
    {
      "cell_type": "code",
      "metadata": {
        "id": "AV_7XlY7W8DD",
        "colab_type": "code",
        "colab": {}
      },
      "source": [
        "import requests\n",
        "\n",
        "def download_file_from_google_drive(id, destination):\n",
        "    URL = \"https://drive.google.com/drive/u/5/folders/1GwvIddbMYiKksnXwecbq8-YPPLIDBEJl\"\n",
        "\n",
        "    session = requests.Session()\n",
        "\n",
        "    response = session.get(URL, params = { 'id' : id }, stream = True)\n",
        "    token = get_confirm_token(response)\n",
        "\n",
        "    if token:\n",
        "        params = { 'id' : id, 'confirm' : token }\n",
        "        response = session.get(URL, params = params, stream = True)\n",
        "\n",
        "    save_response_content(response, destination)    \n",
        "\n",
        "def get_confirm_token(response):\n",
        "    for key, value in response.cookies.items():\n",
        "        if key.startswith('download_warning'):\n",
        "            return value\n",
        "\n",
        "    return None\n",
        "\n",
        "def save_response_content(response, destination):\n",
        "    CHUNK_SIZE = 32768\n",
        "\n",
        "    with open(destination, \"wb\") as f:\n",
        "        for chunk in response.iter_content(CHUNK_SIZE):\n",
        "            if chunk: # filter out keep-alive new chunks\n",
        "                f.write(chunk)\n",
        "\n",
        "if __name__ == \"__main__\":\n",
        "    file_id = 'TAKE ID FROM SHAREABLE LINK'\n",
        "    destination = 'F.csv'\n",
        "    download_file_from_google_drive(file_id, destination)"
      ],
      "execution_count": 0,
      "outputs": []
    },
    {
      "cell_type": "markdown",
      "metadata": {
        "id": "7zz46GEL0wKq",
        "colab_type": "text"
      },
      "source": [
        "## Step 1 - Import data"
      ]
    },
    {
      "cell_type": "code",
      "metadata": {
        "id": "auGCuaVcxais",
        "colab_type": "code",
        "colab": {}
      },
      "source": [
        "import numpy as np\n",
        "import matplotlib.pyplot as plt\n",
        "import pandas as pd\n",
        "import os \n",
        "from sklearn.preprocessing import MinMaxScaler\n",
        "from google.colab import drive\n",
        "#drive.mount('/content/drive', force_remount=True)"
      ],
      "execution_count": 0,
      "outputs": []
    },
    {
      "cell_type": "code",
      "metadata": {
        "id": "LcVnkgVQ7QC9",
        "colab_type": "code",
        "outputId": "f768231d-5980-497f-fd7a-3334dbfc0f99",
        "colab": {
          "base_uri": "https://localhost:8080/",
          "height": 34
        }
      },
      "source": [
        "!pwd"
      ],
      "execution_count": 0,
      "outputs": [
        {
          "output_type": "stream",
          "text": [
            "/content\n"
          ],
          "name": "stdout"
        }
      ]
    },
    {
      "cell_type": "code",
      "metadata": {
        "id": "NXQmAVRKZIEV",
        "colab_type": "code",
        "colab": {}
      },
      "source": [
        "# Upload file without google drive\n",
        "\n",
        "df = pd.read_csv('F.csv',delimiter=',',usecols=['Date','Open','High','Low','Close', 'Volume'])"
      ],
      "execution_count": 0,
      "outputs": []
    },
    {
      "cell_type": "code",
      "metadata": {
        "id": "mpx4tUy7xaiu",
        "colab_type": "code",
        "colab": {}
      },
      "source": [
        "# I got it from https://finance.yahoo.com/quote/GE/history?p=GE&.tsrc=fin-srch\n",
        "\n",
        "df = pd.read_csv('drive/My Drive/BigData/F.csv',delimiter=',',usecols=['Date','Open','High','Low','Close', 'Volume'])\n"
      ],
      "execution_count": 0,
      "outputs": []
    },
    {
      "cell_type": "code",
      "metadata": {
        "id": "bPMmthxJxaiy",
        "colab_type": "code",
        "outputId": "273629f3-c171-46fe-cc72-9b9863570d6d",
        "colab": {
          "base_uri": "https://localhost:8080/",
          "height": 204
        }
      },
      "source": [
        "# Sort DataFrame by date\n",
        "df = df.sort_values('Date')\n",
        "\n",
        "# Double check the result\n",
        "df.head()"
      ],
      "execution_count": 0,
      "outputs": [
        {
          "output_type": "execute_result",
          "data": {
            "text/html": [
              "<div>\n",
              "<style scoped>\n",
              "    .dataframe tbody tr th:only-of-type {\n",
              "        vertical-align: middle;\n",
              "    }\n",
              "\n",
              "    .dataframe tbody tr th {\n",
              "        vertical-align: top;\n",
              "    }\n",
              "\n",
              "    .dataframe thead th {\n",
              "        text-align: right;\n",
              "    }\n",
              "</style>\n",
              "<table border=\"1\" class=\"dataframe\">\n",
              "  <thead>\n",
              "    <tr style=\"text-align: right;\">\n",
              "      <th></th>\n",
              "      <th>Date</th>\n",
              "      <th>Open</th>\n",
              "      <th>High</th>\n",
              "      <th>Low</th>\n",
              "      <th>Close</th>\n",
              "      <th>Volume</th>\n",
              "    </tr>\n",
              "  </thead>\n",
              "  <tbody>\n",
              "    <tr>\n",
              "      <th>0</th>\n",
              "      <td>1972-06-01</td>\n",
              "      <td>2.149165</td>\n",
              "      <td>2.173495</td>\n",
              "      <td>2.149165</td>\n",
              "      <td>2.153220</td>\n",
              "      <td>1089200</td>\n",
              "    </tr>\n",
              "    <tr>\n",
              "      <th>1</th>\n",
              "      <td>1972-06-02</td>\n",
              "      <td>2.153220</td>\n",
              "      <td>2.173495</td>\n",
              "      <td>2.141055</td>\n",
              "      <td>2.149165</td>\n",
              "      <td>1173500</td>\n",
              "    </tr>\n",
              "    <tr>\n",
              "      <th>2</th>\n",
              "      <td>1972-06-05</td>\n",
              "      <td>2.149165</td>\n",
              "      <td>2.169440</td>\n",
              "      <td>2.141055</td>\n",
              "      <td>2.149165</td>\n",
              "      <td>5208100</td>\n",
              "    </tr>\n",
              "    <tr>\n",
              "      <th>3</th>\n",
              "      <td>1972-06-06</td>\n",
              "      <td>2.149165</td>\n",
              "      <td>2.157275</td>\n",
              "      <td>2.116725</td>\n",
              "      <td>2.124835</td>\n",
              "      <td>1421400</td>\n",
              "    </tr>\n",
              "    <tr>\n",
              "      <th>4</th>\n",
              "      <td>1972-06-07</td>\n",
              "      <td>2.124835</td>\n",
              "      <td>2.137000</td>\n",
              "      <td>2.112669</td>\n",
              "      <td>2.112669</td>\n",
              "      <td>671800</td>\n",
              "    </tr>\n",
              "  </tbody>\n",
              "</table>\n",
              "</div>"
            ],
            "text/plain": [
              "         Date      Open      High       Low     Close   Volume\n",
              "0  1972-06-01  2.149165  2.173495  2.149165  2.153220  1089200\n",
              "1  1972-06-02  2.153220  2.173495  2.141055  2.149165  1173500\n",
              "2  1972-06-05  2.149165  2.169440  2.141055  2.149165  5208100\n",
              "3  1972-06-06  2.149165  2.157275  2.116725  2.124835  1421400\n",
              "4  1972-06-07  2.124835  2.137000  2.112669  2.112669   671800"
            ]
          },
          "metadata": {
            "tags": []
          },
          "execution_count": 5
        }
      ]
    },
    {
      "cell_type": "code",
      "metadata": {
        "scrolled": false,
        "id": "GkKxc7cFxai1",
        "colab_type": "code",
        "outputId": "63354890-bd51-4512-9152-c811ffec0db0",
        "colab": {
          "base_uri": "https://localhost:8080/",
          "height": 621
        }
      },
      "source": [
        "plt.figure(figsize = (18,9))\n",
        "plt.plot(range(df.shape[0]),(df['Low']+df['High'])/2.0)\n",
        "plt.xticks(range(0,df.shape[0],500),df['Date'].loc[::500],rotation=45)\n",
        "plt.xlabel('Date',fontsize=18)\n",
        "plt.ylabel('Mid Price',fontsize=18)\n",
        "plt.show()"
      ],
      "execution_count": 0,
      "outputs": [
        {
          "output_type": "display_data",
          "data": {
            "image/png": "[encoded data removed]",
            "text/plain": [
              "<Figure size 1296x648 with 1 Axes>"
            ]
          },
          "metadata": {
            "tags": []
          }
        }
      ]
    },
    {
      "cell_type": "markdown",
      "metadata": {
        "id": "RxMRaOzn1kE6",
        "colab_type": "text"
      },
      "source": [
        "## Step 2 - Data preprocessing "
      ]
    },
    {
      "cell_type": "code",
      "metadata": {
        "id": "ZL--fSe8xai3",
        "colab_type": "code",
        "colab": {}
      },
      "source": [
        "df['mid'] = (df['Low']+df['High'])/2.0"
      ],
      "execution_count": 0,
      "outputs": []
    },
    {
      "cell_type": "code",
      "metadata": {
        "id": "b6Wab9Tjxai6",
        "colab_type": "code",
        "colab": {}
      },
      "source": [
        "SEQ_LEN = 60  # how long of a preceeding sequence to collect for RNN\n",
        "FUTURE_PERIOD_PREDICT = 1  # how far into the future are we trying to predict?\n",
        "RATIO_TO_PREDICT = \"mid\""
      ],
      "execution_count": 0,
      "outputs": []
    },
    {
      "cell_type": "code",
      "metadata": {
        "id": "xivEjA3nxai8",
        "colab_type": "code",
        "colab": {}
      },
      "source": [
        "def classify(current, future):\n",
        "    if float(future) > float(current):\n",
        "        return 1\n",
        "    else:\n",
        "        return 0"
      ],
      "execution_count": 0,
      "outputs": []
    },
    {
      "cell_type": "code",
      "metadata": {
        "id": "1Ed5lkP2xai-",
        "colab_type": "code",
        "colab": {}
      },
      "source": [
        "df['future'] = df[RATIO_TO_PREDICT].shift(-FUTURE_PERIOD_PREDICT)"
      ],
      "execution_count": 0,
      "outputs": []
    },
    {
      "cell_type": "code",
      "metadata": {
        "id": "wG_6iwU6xajA",
        "colab_type": "code",
        "colab": {}
      },
      "source": [
        "df['target'] = list(map(classify, df[RATIO_TO_PREDICT], df['future']))"
      ],
      "execution_count": 0,
      "outputs": []
    },
    {
      "cell_type": "code",
      "metadata": {
        "id": "xghpEEPlxajC",
        "colab_type": "code",
        "outputId": "505bb2fc-3307-4caf-e2b2-a9900390cb82",
        "colab": {
          "base_uri": "https://localhost:8080/",
          "height": 204
        }
      },
      "source": [
        "df.head()"
      ],
      "execution_count": 0,
      "outputs": [
        {
          "output_type": "execute_result",
          "data": {
            "text/html": [
              "<div>\n",
              "<style scoped>\n",
              "    .dataframe tbody tr th:only-of-type {\n",
              "        vertical-align: middle;\n",
              "    }\n",
              "\n",
              "    .dataframe tbody tr th {\n",
              "        vertical-align: top;\n",
              "    }\n",
              "\n",
              "    .dataframe thead th {\n",
              "        text-align: right;\n",
              "    }\n",
              "</style>\n",
              "<table border=\"1\" class=\"dataframe\">\n",
              "  <thead>\n",
              "    <tr style=\"text-align: right;\">\n",
              "      <th></th>\n",
              "      <th>Date</th>\n",
              "      <th>Open</th>\n",
              "      <th>High</th>\n",
              "      <th>Low</th>\n",
              "      <th>Close</th>\n",
              "      <th>Volume</th>\n",
              "      <th>mid</th>\n",
              "      <th>future</th>\n",
              "      <th>target</th>\n",
              "    </tr>\n",
              "  </thead>\n",
              "  <tbody>\n",
              "    <tr>\n",
              "      <th>0</th>\n",
              "      <td>1972-06-01</td>\n",
              "      <td>2.149165</td>\n",
              "      <td>2.173495</td>\n",
              "      <td>2.149165</td>\n",
              "      <td>2.153220</td>\n",
              "      <td>1089200</td>\n",
              "      <td>2.161330</td>\n",
              "      <td>2.157275</td>\n",
              "      <td>0</td>\n",
              "    </tr>\n",
              "    <tr>\n",
              "      <th>1</th>\n",
              "      <td>1972-06-02</td>\n",
              "      <td>2.153220</td>\n",
              "      <td>2.173495</td>\n",
              "      <td>2.141055</td>\n",
              "      <td>2.149165</td>\n",
              "      <td>1173500</td>\n",
              "      <td>2.157275</td>\n",
              "      <td>2.155247</td>\n",
              "      <td>0</td>\n",
              "    </tr>\n",
              "    <tr>\n",
              "      <th>2</th>\n",
              "      <td>1972-06-05</td>\n",
              "      <td>2.149165</td>\n",
              "      <td>2.169440</td>\n",
              "      <td>2.141055</td>\n",
              "      <td>2.149165</td>\n",
              "      <td>5208100</td>\n",
              "      <td>2.155247</td>\n",
              "      <td>2.137000</td>\n",
              "      <td>0</td>\n",
              "    </tr>\n",
              "    <tr>\n",
              "      <th>3</th>\n",
              "      <td>1972-06-06</td>\n",
              "      <td>2.149165</td>\n",
              "      <td>2.157275</td>\n",
              "      <td>2.116725</td>\n",
              "      <td>2.124835</td>\n",
              "      <td>1421400</td>\n",
              "      <td>2.137000</td>\n",
              "      <td>2.124834</td>\n",
              "      <td>0</td>\n",
              "    </tr>\n",
              "    <tr>\n",
              "      <th>4</th>\n",
              "      <td>1972-06-07</td>\n",
              "      <td>2.124835</td>\n",
              "      <td>2.137000</td>\n",
              "      <td>2.112669</td>\n",
              "      <td>2.112669</td>\n",
              "      <td>671800</td>\n",
              "      <td>2.124834</td>\n",
              "      <td>2.112669</td>\n",
              "      <td>0</td>\n",
              "    </tr>\n",
              "  </tbody>\n",
              "</table>\n",
              "</div>"
            ],
            "text/plain": [
              "         Date      Open      High       Low     Close   Volume       mid  \\\n",
              "0  1972-06-01  2.149165  2.173495  2.149165  2.153220  1089200  2.161330   \n",
              "1  1972-06-02  2.153220  2.173495  2.141055  2.149165  1173500  2.157275   \n",
              "2  1972-06-05  2.149165  2.169440  2.141055  2.149165  5208100  2.155247   \n",
              "3  1972-06-06  2.149165  2.157275  2.116725  2.124835  1421400  2.137000   \n",
              "4  1972-06-07  2.124835  2.137000  2.112669  2.112669   671800  2.124834   \n",
              "\n",
              "     future  target  \n",
              "0  2.157275       0  \n",
              "1  2.155247       0  \n",
              "2  2.137000       0  \n",
              "3  2.124834       0  \n",
              "4  2.112669       0  "
            ]
          },
          "metadata": {
            "tags": []
          },
          "execution_count": 12
        }
      ]
    },
    {
      "cell_type": "code",
      "metadata": {
        "id": "7PAjmcStxajF",
        "colab_type": "code",
        "outputId": "5b245f32-a71d-43c7-e4d4-281b6ac005cd",
        "colab": {
          "base_uri": "https://localhost:8080/",
          "height": 204
        }
      },
      "source": [
        "df.tail()"
      ],
      "execution_count": 0,
      "outputs": [
        {
          "output_type": "execute_result",
          "data": {
            "text/html": [
              "<div>\n",
              "<style scoped>\n",
              "    .dataframe tbody tr th:only-of-type {\n",
              "        vertical-align: middle;\n",
              "    }\n",
              "\n",
              "    .dataframe tbody tr th {\n",
              "        vertical-align: top;\n",
              "    }\n",
              "\n",
              "    .dataframe thead th {\n",
              "        text-align: right;\n",
              "    }\n",
              "</style>\n",
              "<table border=\"1\" class=\"dataframe\">\n",
              "  <thead>\n",
              "    <tr style=\"text-align: right;\">\n",
              "      <th></th>\n",
              "      <th>Date</th>\n",
              "      <th>Open</th>\n",
              "      <th>High</th>\n",
              "      <th>Low</th>\n",
              "      <th>Close</th>\n",
              "      <th>Volume</th>\n",
              "      <th>mid</th>\n",
              "      <th>future</th>\n",
              "      <th>target</th>\n",
              "    </tr>\n",
              "  </thead>\n",
              "  <tbody>\n",
              "    <tr>\n",
              "      <th>11822</th>\n",
              "      <td>2019-04-17</td>\n",
              "      <td>9.40</td>\n",
              "      <td>9.58</td>\n",
              "      <td>9.39</td>\n",
              "      <td>9.50</td>\n",
              "      <td>30688300</td>\n",
              "      <td>9.485</td>\n",
              "      <td>9.550</td>\n",
              "      <td>1</td>\n",
              "    </tr>\n",
              "    <tr>\n",
              "      <th>11823</th>\n",
              "      <td>2019-04-18</td>\n",
              "      <td>9.52</td>\n",
              "      <td>9.62</td>\n",
              "      <td>9.48</td>\n",
              "      <td>9.55</td>\n",
              "      <td>29843000</td>\n",
              "      <td>9.550</td>\n",
              "      <td>9.520</td>\n",
              "      <td>0</td>\n",
              "    </tr>\n",
              "    <tr>\n",
              "      <th>11824</th>\n",
              "      <td>2019-04-22</td>\n",
              "      <td>9.58</td>\n",
              "      <td>9.58</td>\n",
              "      <td>9.46</td>\n",
              "      <td>9.50</td>\n",
              "      <td>38718500</td>\n",
              "      <td>9.520</td>\n",
              "      <td>9.405</td>\n",
              "      <td>0</td>\n",
              "    </tr>\n",
              "    <tr>\n",
              "      <th>11825</th>\n",
              "      <td>2019-04-23</td>\n",
              "      <td>9.36</td>\n",
              "      <td>9.51</td>\n",
              "      <td>9.30</td>\n",
              "      <td>9.50</td>\n",
              "      <td>39493700</td>\n",
              "      <td>9.405</td>\n",
              "      <td>9.505</td>\n",
              "      <td>1</td>\n",
              "    </tr>\n",
              "    <tr>\n",
              "      <th>11826</th>\n",
              "      <td>2019-04-24</td>\n",
              "      <td>9.45</td>\n",
              "      <td>9.61</td>\n",
              "      <td>9.40</td>\n",
              "      <td>9.57</td>\n",
              "      <td>39768200</td>\n",
              "      <td>9.505</td>\n",
              "      <td>NaN</td>\n",
              "      <td>0</td>\n",
              "    </tr>\n",
              "  </tbody>\n",
              "</table>\n",
              "</div>"
            ],
            "text/plain": [
              "             Date  Open  High   Low  Close    Volume    mid  future  target\n",
              "11822  2019-04-17  9.40  9.58  9.39   9.50  30688300  9.485   9.550       1\n",
              "11823  2019-04-18  9.52  9.62  9.48   9.55  29843000  9.550   9.520       0\n",
              "11824  2019-04-22  9.58  9.58  9.46   9.50  38718500  9.520   9.405       0\n",
              "11825  2019-04-23  9.36  9.51  9.30   9.50  39493700  9.405   9.505       1\n",
              "11826  2019-04-24  9.45  9.61  9.40   9.57  39768200  9.505     NaN       0"
            ]
          },
          "metadata": {
            "tags": []
          },
          "execution_count": 13
        }
      ]
    },
    {
      "cell_type": "code",
      "metadata": {
        "id": "RAFn8wq_xajI",
        "colab_type": "code",
        "colab": {}
      },
      "source": [
        "times = sorted(df.index.values)  # get the times\n",
        "last_10pct = sorted(df.index.values)[-int(0.1*len(times))]  # get the last 10% of the times\n",
        "last_20pct = sorted(df.index.values)[-int(0.2*len(times))]  # get the last 20% of the times\n",
        "\n",
        "test_df = df[(df.index >= last_10pct)]\n",
        "validation_df = df[(df.index >= last_20pct) & (df.index < last_10pct)]  \n",
        "train_df = df[(df.index < last_20pct)]  # now the train_df is all the data up to the last 20%"
      ],
      "execution_count": 0,
      "outputs": []
    },
    {
      "cell_type": "code",
      "metadata": {
        "id": "7YjKCnx9xajJ",
        "colab_type": "code",
        "colab": {}
      },
      "source": [
        "from collections import deque\n",
        "import numpy as np\n",
        "import random"
      ],
      "execution_count": 0,
      "outputs": []
    },
    {
      "cell_type": "code",
      "metadata": {
        "id": "iqCCaK-RxajL",
        "colab_type": "code",
        "outputId": "88c63aac-46d2-47e0-9b91-957e58a5bd9a",
        "colab": {
          "base_uri": "https://localhost:8080/",
          "height": 122
        }
      },
      "source": [
        "train_df.drop(columns=[\"Date\", \"future\", 'Open', 'High', 'Low', 'Close', 'Volume'], inplace=True)\n",
        "validation_df.drop(columns=[\"Date\", \"future\", 'Open', 'High', 'Low', 'Close', 'Volume'], inplace=True)\n",
        "test_df.drop(columns=[\"Date\", \"future\", 'Open', 'High', 'Low', 'Close', 'Volume'], inplace=True)"
      ],
      "execution_count": 0,
      "outputs": [
        {
          "output_type": "stream",
          "text": [
            "/usr/local/lib/python3.6/dist-packages/pandas/core/frame.py:3940: SettingWithCopyWarning: \n",
            "A value is trying to be set on a copy of a slice from a DataFrame\n",
            "\n",
            "See the caveats in the documentation: http://pandas.pydata.org/pandas-docs/stable/indexing.html#indexing-view-versus-copy\n",
            "  errors=errors)\n"
          ],
          "name": "stderr"
        }
      ]
    },
    {
      "cell_type": "code",
      "metadata": {
        "id": "_9CrFIjYEKKJ",
        "colab_type": "code",
        "outputId": "9706001d-96cc-4bcb-d60e-5c75f61530c5",
        "colab": {
          "base_uri": "https://localhost:8080/",
          "height": 204
        }
      },
      "source": [
        "train_df.head()"
      ],
      "execution_count": 0,
      "outputs": [
        {
          "output_type": "execute_result",
          "data": {
            "text/html": [
              "<div>\n",
              "<style scoped>\n",
              "    .dataframe tbody tr th:only-of-type {\n",
              "        vertical-align: middle;\n",
              "    }\n",
              "\n",
              "    .dataframe tbody tr th {\n",
              "        vertical-align: top;\n",
              "    }\n",
              "\n",
              "    .dataframe thead th {\n",
              "        text-align: right;\n",
              "    }\n",
              "</style>\n",
              "<table border=\"1\" class=\"dataframe\">\n",
              "  <thead>\n",
              "    <tr style=\"text-align: right;\">\n",
              "      <th></th>\n",
              "      <th>mid</th>\n",
              "      <th>target</th>\n",
              "    </tr>\n",
              "  </thead>\n",
              "  <tbody>\n",
              "    <tr>\n",
              "      <th>0</th>\n",
              "      <td>2.161330</td>\n",
              "      <td>0</td>\n",
              "    </tr>\n",
              "    <tr>\n",
              "      <th>1</th>\n",
              "      <td>2.157275</td>\n",
              "      <td>0</td>\n",
              "    </tr>\n",
              "    <tr>\n",
              "      <th>2</th>\n",
              "      <td>2.155247</td>\n",
              "      <td>0</td>\n",
              "    </tr>\n",
              "    <tr>\n",
              "      <th>3</th>\n",
              "      <td>2.137000</td>\n",
              "      <td>0</td>\n",
              "    </tr>\n",
              "    <tr>\n",
              "      <th>4</th>\n",
              "      <td>2.124834</td>\n",
              "      <td>0</td>\n",
              "    </tr>\n",
              "  </tbody>\n",
              "</table>\n",
              "</div>"
            ],
            "text/plain": [
              "        mid  target\n",
              "0  2.161330       0\n",
              "1  2.157275       0\n",
              "2  2.155247       0\n",
              "3  2.137000       0\n",
              "4  2.124834       0"
            ]
          },
          "metadata": {
            "tags": []
          },
          "execution_count": 17
        }
      ]
    },
    {
      "cell_type": "code",
      "metadata": {
        "id": "MdZ_ULmxxajO",
        "colab_type": "code",
        "outputId": "836577c9-e96f-4153-ff40-a8178449ffb7",
        "colab": {
          "base_uri": "https://localhost:8080/",
          "height": 204
        }
      },
      "source": [
        "train_df.tail()"
      ],
      "execution_count": 0,
      "outputs": [
        {
          "output_type": "execute_result",
          "data": {
            "text/html": [
              "<div>\n",
              "<style scoped>\n",
              "    .dataframe tbody tr th:only-of-type {\n",
              "        vertical-align: middle;\n",
              "    }\n",
              "\n",
              "    .dataframe tbody tr th {\n",
              "        vertical-align: top;\n",
              "    }\n",
              "\n",
              "    .dataframe thead th {\n",
              "        text-align: right;\n",
              "    }\n",
              "</style>\n",
              "<table border=\"1\" class=\"dataframe\">\n",
              "  <thead>\n",
              "    <tr style=\"text-align: right;\">\n",
              "      <th></th>\n",
              "      <th>mid</th>\n",
              "      <th>target</th>\n",
              "    </tr>\n",
              "  </thead>\n",
              "  <tbody>\n",
              "    <tr>\n",
              "      <th>9457</th>\n",
              "      <td>8.680</td>\n",
              "      <td>1</td>\n",
              "    </tr>\n",
              "    <tr>\n",
              "      <th>9458</th>\n",
              "      <td>8.790</td>\n",
              "      <td>0</td>\n",
              "    </tr>\n",
              "    <tr>\n",
              "      <th>9459</th>\n",
              "      <td>8.740</td>\n",
              "      <td>1</td>\n",
              "    </tr>\n",
              "    <tr>\n",
              "      <th>9460</th>\n",
              "      <td>8.830</td>\n",
              "      <td>0</td>\n",
              "    </tr>\n",
              "    <tr>\n",
              "      <th>9461</th>\n",
              "      <td>8.605</td>\n",
              "      <td>1</td>\n",
              "    </tr>\n",
              "  </tbody>\n",
              "</table>\n",
              "</div>"
            ],
            "text/plain": [
              "        mid  target\n",
              "9457  8.680       1\n",
              "9458  8.790       0\n",
              "9459  8.740       1\n",
              "9460  8.830       0\n",
              "9461  8.605       1"
            ]
          },
          "metadata": {
            "tags": []
          },
          "execution_count": 18
        }
      ]
    },
    {
      "cell_type": "code",
      "metadata": {
        "id": "zwGJhffJxajR",
        "colab_type": "code",
        "outputId": "dadfcaca-4bc1-4100-b021-ef1b4430d907",
        "colab": {
          "base_uri": "https://localhost:8080/",
          "height": 156
        }
      },
      "source": [
        "train_data = train_df[RATIO_TO_PREDICT].as_matrix()\n",
        "valid_data = validation_df[RATIO_TO_PREDICT].as_matrix()\n",
        "test_data = test_df[RATIO_TO_PREDICT].as_matrix()\n",
        "\n",
        "print(train_data)"
      ],
      "execution_count": 0,
      "outputs": [
        {
          "output_type": "stream",
          "text": [
            "[2.16133   2.157275  2.1552475 ... 8.74      8.83      8.605    ]\n"
          ],
          "name": "stdout"
        },
        {
          "output_type": "stream",
          "text": [
            "/usr/local/lib/python3.6/dist-packages/ipykernel_launcher.py:1: FutureWarning: Method .as_matrix will be removed in a future version. Use .values instead.\n",
            "  \"\"\"Entry point for launching an IPython kernel.\n",
            "/usr/local/lib/python3.6/dist-packages/ipykernel_launcher.py:2: FutureWarning: Method .as_matrix will be removed in a future version. Use .values instead.\n",
            "  \n",
            "/usr/local/lib/python3.6/dist-packages/ipykernel_launcher.py:3: FutureWarning: Method .as_matrix will be removed in a future version. Use .values instead.\n",
            "  This is separate from the ipykernel package so we can avoid doing imports until\n"
          ],
          "name": "stderr"
        }
      ]
    },
    {
      "cell_type": "code",
      "metadata": {
        "id": "PIAJik-ZxajU",
        "colab_type": "code",
        "outputId": "e8d8a372-780c-477a-a7ec-b48c4a86cd2d",
        "colab": {
          "base_uri": "https://localhost:8080/",
          "height": 136
        }
      },
      "source": [
        "train_data = train_data.reshape(-1,1)\n",
        "valid_data = valid_data.reshape(-1,1)\n",
        "test_data = test_data.reshape(-1,1)\n",
        "\n",
        "print(train_data)"
      ],
      "execution_count": 0,
      "outputs": [
        {
          "output_type": "stream",
          "text": [
            "[[2.16133  ]\n",
            " [2.157275 ]\n",
            " [2.1552475]\n",
            " ...\n",
            " [8.74     ]\n",
            " [8.83     ]\n",
            " [8.605    ]]\n"
          ],
          "name": "stdout"
        }
      ]
    },
    {
      "cell_type": "code",
      "metadata": {
        "id": "X4kEiHRbxajX",
        "colab_type": "code",
        "outputId": "4a382d5e-d6fe-474e-d664-5e19375831bf",
        "colab": {
          "base_uri": "https://localhost:8080/",
          "height": 34
        }
      },
      "source": [
        "scaler = MinMaxScaler()\n",
        "print(scaler.fit(train_data))"
      ],
      "execution_count": 0,
      "outputs": [
        {
          "output_type": "stream",
          "text": [
            "MinMaxScaler(copy=True, feature_range=(0, 1))\n"
          ],
          "name": "stdout"
        }
      ]
    },
    {
      "cell_type": "code",
      "metadata": {
        "id": "cn_snhLMxajZ",
        "colab_type": "code",
        "colab": {}
      },
      "source": [
        "# Train the Scaler with training data and smooth data\n",
        "smoothing_window_size = 25\n",
        "for di in range(0,100,smoothing_window_size):\n",
        "    scaler.fit(train_data[di:di+smoothing_window_size,:])\n",
        "    train_data[di:di+smoothing_window_size,:] = scaler.transform(train_data[di:di+smoothing_window_size,:])\n",
        "\n",
        "# You normalize the last bit of remaining data\n",
        "scaler.fit(train_data[di+smoothing_window_size:,:])\n",
        "train_data[di+smoothing_window_size:,:] = scaler.transform(train_data[di+smoothing_window_size:,:])"
      ],
      "execution_count": 0,
      "outputs": []
    },
    {
      "cell_type": "code",
      "metadata": {
        "id": "TeNXSWNvxajd",
        "colab_type": "code",
        "colab": {}
      },
      "source": [
        "# Reshape both train and test data\n",
        "train_data = train_data.reshape(-1)\n",
        "\n",
        "# Normalize test data and validation data\n",
        "valid_data = scaler.transform(valid_data).reshape(-1)\n",
        "test_data = scaler.transform(test_data).reshape(-1)"
      ],
      "execution_count": 0,
      "outputs": []
    },
    {
      "cell_type": "code",
      "metadata": {
        "id": "qzVv4a0exajf",
        "colab_type": "code",
        "colab": {}
      },
      "source": [
        "# Now perform exponential moving average smoothing\n",
        "# So the data will have a smoother curve than the original ragged data\n",
        "EMA = 0.0\n",
        "gamma = 0.1\n",
        "for ti in range(1006):\n",
        "    EMA = gamma*train_data[ti] + (1-gamma)*EMA\n",
        "    train_data[ti] = EMA\n",
        "\n",
        "# Used for visualization and test purposes\n",
        "all_mid_data = np.concatenate([train_data,valid_data, test_data],axis=0)"
      ],
      "execution_count": 0,
      "outputs": []
    },
    {
      "cell_type": "code",
      "metadata": {
        "id": "hJWixftkxajh",
        "colab_type": "code",
        "outputId": "613ea17b-b795-4921-c4e3-d80edb32e63d",
        "colab": {
          "base_uri": "https://localhost:8080/",
          "height": 34
        }
      },
      "source": [
        "X_train = []\n",
        "y_train = []\n",
        "for i in range(SEQ_LEN, len(train_data)):\n",
        "    X_train.append(train_data[i-SEQ_LEN:i])\n",
        "    y_train.append(train_data[i + (FUTURE_PERIOD_PREDICT-1)])\n",
        "X_train, y_train = np.array(X_train), np.array(y_train)\n",
        "\n",
        "X_train = np.reshape(X_train, (X_train.shape[0], X_train.shape[1], 1))\n",
        "\n",
        "print(y_train)"
      ],
      "execution_count": 0,
      "outputs": [
        {
          "output_type": "stream",
          "text": [
            "[0.52487622 0.54658196 0.53063353 ... 0.22573252 0.22824181 0.22196857]\n"
          ],
          "name": "stdout"
        }
      ]
    },
    {
      "cell_type": "code",
      "metadata": {
        "id": "mUKjYFOfxajj",
        "colab_type": "code",
        "colab": {}
      },
      "source": [
        "X_valid = []\n",
        "y_valid = []\n",
        "for i in range(SEQ_LEN, len(valid_data)):\n",
        "    X_valid.append(valid_data[i-SEQ_LEN:i])\n",
        "    y_valid.append(valid_data[i+(FUTURE_PERIOD_PREDICT-1)])\n",
        "X_valid, y_valid = np.array(X_valid), np.array(y_valid)\n",
        "\n",
        "X_valid = np.reshape(X_valid, (X_valid.shape[0], X_valid.shape[1], 1))"
      ],
      "execution_count": 0,
      "outputs": []
    },
    {
      "cell_type": "code",
      "metadata": {
        "id": "QAyrELlOxajk",
        "colab_type": "code",
        "colab": {}
      },
      "source": [
        "X_test = []\n",
        "y_test = []\n",
        "for i in range(SEQ_LEN, len(test_data)):\n",
        "    X_test.append(test_data[i-SEQ_LEN:i])\n",
        "    y_test.append(test_data[i+(FUTURE_PERIOD_PREDICT-1)])\n",
        "    \n",
        "X_test, y_test = np.array(X_test), np.array(y_test)\n",
        "X_test = np.reshape(X_test, (X_test.shape[0], X_test.shape[1], 1))"
      ],
      "execution_count": 0,
      "outputs": []
    },
    {
      "cell_type": "code",
      "metadata": {
        "id": "6Ji_WyLaxajm",
        "colab_type": "code",
        "outputId": "77354e5e-cf85-46a6-eeab-cf9379510226",
        "colab": {
          "base_uri": "https://localhost:8080/",
          "height": 34
        }
      },
      "source": [
        "y_train.shape"
      ],
      "execution_count": 0,
      "outputs": [
        {
          "output_type": "execute_result",
          "data": {
            "text/plain": [
              "(9402,)"
            ]
          },
          "metadata": {
            "tags": []
          },
          "execution_count": 28
        }
      ]
    },
    {
      "cell_type": "code",
      "metadata": {
        "id": "CNnoSUrMxajo",
        "colab_type": "code",
        "outputId": "956b100e-7df7-4d9d-d1fb-a866b3139687",
        "colab": {
          "base_uri": "https://localhost:8080/",
          "height": 34
        }
      },
      "source": [
        "y_valid.shape"
      ],
      "execution_count": 0,
      "outputs": [
        {
          "output_type": "execute_result",
          "data": {
            "text/plain": [
              "(1123,)"
            ]
          },
          "metadata": {
            "tags": []
          },
          "execution_count": 29
        }
      ]
    },
    {
      "cell_type": "code",
      "metadata": {
        "id": "d_h9zobIxajq",
        "colab_type": "code",
        "outputId": "12f25dc2-f6da-47fb-c9be-9cc9b0071440",
        "colab": {
          "base_uri": "https://localhost:8080/",
          "height": 34
        }
      },
      "source": [
        "X_train_2 = []\n",
        "y_train_2 = []\n",
        "for i in range(SEQ_LEN, len(train_data)):\n",
        "    X_train_2.append(train_data[i-SEQ_LEN:i])\n",
        "    y_train_2.append(train_data[i + (FUTURE_PERIOD_PREDICT-1)])\n",
        "X_train_2, y_train_2 = np.array(X_train_2), np.array(y_train_2)\n",
        "\n",
        "X_train_2 = np.reshape(X_train_2, (X_train_2.shape[0], X_train_2.shape[1], 1))\n",
        "\n",
        "print(y_train_2)"
      ],
      "execution_count": 0,
      "outputs": [
        {
          "output_type": "stream",
          "text": [
            "[0.52487622 0.54658196 0.53063353 ... 0.22573252 0.22824181 0.22196857]\n"
          ],
          "name": "stdout"
        }
      ]
    },
    {
      "cell_type": "code",
      "metadata": {
        "id": "KAcuCXhbTO71",
        "colab_type": "code",
        "outputId": "4ab2c004-9128-415f-d90a-f0415358fca8",
        "colab": {
          "base_uri": "https://localhost:8080/",
          "height": 34
        }
      },
      "source": [
        "print(y_train_2.shape)"
      ],
      "execution_count": 0,
      "outputs": [
        {
          "output_type": "stream",
          "text": [
            "(9402,)\n"
          ],
          "name": "stdout"
        }
      ]
    },
    {
      "cell_type": "code",
      "metadata": {
        "id": "K9o-mx1jxajr",
        "colab_type": "code",
        "outputId": "0e41ce7a-bec4-4580-d276-401435a5be20",
        "colab": {
          "base_uri": "https://localhost:8080/",
          "height": 350
        }
      },
      "source": [
        "## show predictions\n",
        "plt.figure(figsize=(15, 5))\n",
        "\n",
        "plt.plot(np.arange(y_train_2.shape[0]), y_train_2, color='blue', label='train target')\n",
        "\n",
        "plt.plot(np.arange(y_train_2.shape[0], y_train_2.shape[0]+y_valid.shape[0]), y_valid,\n",
        "         color='gray', label='valid target')\n",
        "\n",
        "plt.plot(np.arange(y_train_2.shape[0]+y_valid.shape[0],\n",
        "                   y_train_2.shape[0]+y_valid.shape[0]+y_test.shape[0]),\n",
        "         y_test, color='black', label='test target')\n",
        "\n",
        "\n",
        "plt.title('Seaparated Data Sets')\n",
        "plt.xlabel('time [days]')\n",
        "plt.ylabel('normalized price')\n",
        "plt.legend(loc='best');"
      ],
      "execution_count": 0,
      "outputs": [
        {
          "output_type": "display_data",
          "data": {
            "image/png": "[encoded data removed]",
            "text/plain": [
              "<Figure size 1080x360 with 1 Axes>"
            ]
          },
          "metadata": {
            "tags": []
          }
        }
      ]
    },
    {
      "cell_type": "code",
      "metadata": {
        "id": "1zmC7ko9xajt",
        "colab_type": "code",
        "colab": {}
      },
      "source": [
        "from sklearn.utils import shuffle\n",
        "X_train, y_train = shuffle(X_train, y_train)"
      ],
      "execution_count": 0,
      "outputs": []
    },
    {
      "cell_type": "code",
      "metadata": {
        "id": "Rf4iY4xOxajx",
        "colab_type": "code",
        "colab": {}
      },
      "source": [
        "EPOCHS = 10  # how many passes through our data\n",
        "BATCH_SIZE = 1024  # how many batches? Try smaller batch if you're getting OOM (out of memory) errors.\n",
        "import time\n",
        "\n",
        "NAME = f\"{SEQ_LEN}-SEQ-{FUTURE_PERIOD_PREDICT}-PRED-{int(time.time())}\"  # a unique name for the model"
      ],
      "execution_count": 0,
      "outputs": []
    },
    {
      "cell_type": "code",
      "metadata": {
        "id": "dUDciYiOykQy",
        "colab_type": "code",
        "outputId": "2481d957-5fbd-430d-e4cd-59daaee3d5ab",
        "colab": {
          "base_uri": "https://localhost:8080/",
          "height": 85
        }
      },
      "source": [
        "!pip install -q tensorflow==2.0.0-alpha0"
      ],
      "execution_count": 0,
      "outputs": [
        {
          "output_type": "stream",
          "text": [
            "\u001b[K    100% |████████████████████████████████| 79.9MB 309kB/s \n",
            "\u001b[K    100% |████████████████████████████████| 3.0MB 5.4MB/s \n",
            "\u001b[K    100% |████████████████████████████████| 419kB 17.9MB/s \n",
            "\u001b[K    100% |████████████████████████████████| 61kB 21.6MB/s \n",
            "\u001b[?25h"
          ],
          "name": "stdout"
        }
      ]
    },
    {
      "cell_type": "code",
      "metadata": {
        "id": "7s5HTXF9xall",
        "colab_type": "code",
        "colab": {}
      },
      "source": [
        "# https://www.kaggle.com/shujian/transformer-with-lstm\n",
        "\n",
        "import random, os, sys\n",
        "import numpy as np\n",
        "from tensorflow.keras.models import *\n",
        "from tensorflow.keras.layers import *\n",
        "from tensorflow.keras.callbacks import *\n",
        "from tensorflow.keras.initializers import *\n",
        "import tensorflow as tf\n",
        "from tensorflow.python.keras.layers import Layer\n",
        "from tensorflow.keras import backend as K\n",
        "\n",
        "try:\n",
        "    from dataloader import TokenList, pad_to_longest\n",
        "    # for transformer\n",
        "except: pass\n",
        "\n",
        "\n",
        "\n",
        "embed_size = 60\n",
        "\n",
        "class LayerNormalization(Layer):\n",
        "    def __init__(self, eps=1e-6, **kwargs):\n",
        "        self.eps = eps\n",
        "        super(LayerNormalization, self).__init__(**kwargs)\n",
        "    def build(self, input_shape):\n",
        "        self.gamma = self.add_weight(name='gamma', shape=input_shape[-1:],\n",
        "                                     initializer=Ones(), trainable=True)\n",
        "        self.beta = self.add_weight(name='beta', shape=input_shape[-1:],\n",
        "                                    initializer=Zeros(), trainable=True)\n",
        "        super(LayerNormalization, self).build(input_shape)\n",
        "    def call(self, x):\n",
        "        mean = K.mean(x, axis=-1, keepdims=True)\n",
        "        std = K.std(x, axis=-1, keepdims=True)\n",
        "        return self.gamma * (x - mean) / (std + self.eps) + self.beta\n",
        "    def compute_output_shape(self, input_shape):\n",
        "        return input_shape\n",
        "\n",
        "class ScaledDotProductAttention():\n",
        "    def __init__(self, d_model, attn_dropout=0.1):\n",
        "        self.temper = np.sqrt(d_model)\n",
        "        self.dropout = Dropout(attn_dropout)\n",
        "    def __call__(self, q, k, v, mask):\n",
        "        attn = Lambda(lambda x:K.batch_dot(x[0],x[1],axes=[2,2])/self.temper)([q, k])\n",
        "        if mask is not None:\n",
        "            mmask = Lambda(lambda x:(-1e+10)*(1-x))(mask)\n",
        "            attn = Add()([attn, mmask])\n",
        "        attn = Activation('softmax')(attn)\n",
        "        attn = self.dropout(attn)\n",
        "        output = Lambda(lambda x:K.batch_dot(x[0], x[1]))([attn, v])\n",
        "        return output, attn\n",
        "\n",
        "class MultiHeadAttention():\n",
        "    # mode 0 - big martixes, faster; mode 1 - more clear implementation\n",
        "    def __init__(self, n_head, d_model, d_k, d_v, dropout, mode=0, use_norm=True):\n",
        "        self.mode = mode\n",
        "        self.n_head = n_head\n",
        "        self.d_k = d_k\n",
        "        self.d_v = d_v\n",
        "        self.dropout = dropout\n",
        "        if mode == 0:\n",
        "            self.qs_layer = Dense(n_head*d_k, use_bias=False)\n",
        "            self.ks_layer = Dense(n_head*d_k, use_bias=False)\n",
        "            self.vs_layer = Dense(n_head*d_v, use_bias=False)\n",
        "        elif mode == 1:\n",
        "            self.qs_layers = []\n",
        "            self.ks_layers = []\n",
        "            self.vs_layers = []\n",
        "            for _ in range(n_head):\n",
        "                self.qs_layers.append(TimeDistributed(Dense(d_k, use_bias=False)))\n",
        "                self.ks_layers.append(TimeDistributed(Dense(d_k, use_bias=False)))\n",
        "                self.vs_layers.append(TimeDistributed(Dense(d_v, use_bias=False)))\n",
        "        self.attention = ScaledDotProductAttention(d_model)\n",
        "        self.layer_norm = LayerNormalization() if use_norm else None\n",
        "        self.w_o = TimeDistributed(Dense(d_model))\n",
        "\n",
        "    def __call__(self, q, k, v, mask=None):\n",
        "        d_k, d_v = self.d_k, self.d_v\n",
        "        n_head = self.n_head\n",
        "\n",
        "        if self.mode == 0:\n",
        "            qs = self.qs_layer(q)  # [batch_size, len_q, n_head*d_k]\n",
        "            ks = self.ks_layer(k)\n",
        "            vs = self.vs_layer(v)\n",
        "\n",
        "            def reshape1(x):\n",
        "                s = tf.shape(x)   # [batch_size, len_q, n_head * d_k]\n",
        "                x = tf.reshape(x, [s[0], s[1], n_head, d_k])\n",
        "                x = tf.transpose(x, [2, 0, 1, 3])  \n",
        "                x = tf.reshape(x, [-1, s[1], d_k])  # [n_head * batch_size, len_q, d_k]\n",
        "                return x\n",
        "            qs = Lambda(reshape1)(qs)\n",
        "            ks = Lambda(reshape1)(ks)\n",
        "            vs = Lambda(reshape1)(vs)\n",
        "\n",
        "            if mask is not None:\n",
        "                mask = Lambda(lambda x:K.repeat_elements(x, n_head, 0))(mask)\n",
        "            head, attn = self.attention(qs, ks, vs, mask=mask)  \n",
        "                \n",
        "            def reshape2(x):\n",
        "                s = tf.shape(x)   # [n_head * batch_size, len_v, d_v]\n",
        "                x = tf.reshape(x, [n_head, -1, s[1], s[2]]) \n",
        "                x = tf.transpose(x, [1, 2, 0, 3])\n",
        "                x = tf.reshape(x, [-1, s[1], n_head*d_v])  # [batch_size, len_v, n_head * d_v]\n",
        "                return x\n",
        "            head = Lambda(reshape2)(head)\n",
        "        elif self.mode == 1:\n",
        "            heads = []; attns = []\n",
        "            for i in range(n_head):\n",
        "                qs = self.qs_layers[i](q)   \n",
        "                ks = self.ks_layers[i](k) \n",
        "                vs = self.vs_layers[i](v) \n",
        "                head, attn = self.attention(qs, ks, vs, mask)\n",
        "                heads.append(head); attns.append(attn)\n",
        "            head = Concatenate()(heads) if n_head > 1 else heads[0]\n",
        "            attn = Concatenate()(attns) if n_head > 1 else attns[0]\n",
        "\n",
        "        outputs = self.w_o(head)\n",
        "        outputs = Dropout(self.dropout)(outputs)\n",
        "        if not self.layer_norm: return outputs, attn\n",
        "        # outputs = Add()([outputs, q]) # sl: fix\n",
        "        return self.layer_norm(outputs), attn\n",
        "\n",
        "class PositionwiseFeedForward():\n",
        "    def __init__(self, d_hid, d_inner_hid, dropout=0.1):\n",
        "        self.w_1 = Conv1D(d_inner_hid, 1, activation='relu')\n",
        "        self.w_2 = Conv1D(d_hid, 1)\n",
        "        self.layer_norm = LayerNormalization()\n",
        "        self.dropout = Dropout(dropout)\n",
        "    def __call__(self, x):\n",
        "        output = self.w_1(x) \n",
        "        output = self.w_2(output)\n",
        "        output = self.dropout(output)\n",
        "        output = Add()([output, x])\n",
        "        return self.layer_norm(output)\n",
        "\n",
        "class EncoderLayer():\n",
        "    def __init__(self, d_model, d_inner_hid, n_head, d_k, d_v, dropout=0.1):\n",
        "        self.self_att_layer = MultiHeadAttention(n_head, d_model, d_k, d_v, dropout=dropout)\n",
        "        self.pos_ffn_layer  = PositionwiseFeedForward(d_model, d_inner_hid, dropout=dropout)\n",
        "    def __call__(self, enc_input, mask=None):\n",
        "        output, slf_attn = self.self_att_layer(enc_input, enc_input, enc_input, mask=mask)\n",
        "        output = self.pos_ffn_layer(output)\n",
        "        return output, slf_attn\n",
        "\n",
        "\n",
        "def GetPosEncodingMatrix(max_len, d_emb):\n",
        "    pos_enc = np.array([\n",
        "        [pos / np.power(10000, 2 * (j // 2) / d_emb) for j in range(d_emb)] \n",
        "        if pos != 0 else np.zeros(d_emb) \n",
        "            for pos in range(max_len)\n",
        "            ])\n",
        "    pos_enc[1:, 0::2] = np.sin(pos_enc[1:, 0::2]) # dim 2i\n",
        "    pos_enc[1:, 1::2] = np.cos(pos_enc[1:, 1::2]) # dim 2i+1\n",
        "    return pos_enc\n",
        "\n",
        "def GetPadMask(q, k):\n",
        "    ones = K.expand_dims(K.ones_like(q, 'float32'), -1)\n",
        "    mask = K.cast(K.expand_dims(K.not_equal(k, 0), 1), 'float32')\n",
        "    mask = K.batch_dot(ones, mask, axes=[2,1])\n",
        "    return mask\n",
        "\n",
        "def GetSubMask(s):\n",
        "    len_s = tf.shape(s)[1]\n",
        "    bs = tf.shape(s)[:1]\n",
        "    mask = K.cumsum(tf.eye(len_s, batch_shape=bs), 1)\n",
        "    return mask\n",
        "\n",
        "class Transformer():\n",
        "    def __init__(self, len_limit, embedding_matrix, d_model=embed_size, \\\n",
        "              d_inner_hid=512, n_head=10, d_k=64, d_v=64, layers=2, dropout=0.1, \\\n",
        "              share_word_emb=False, **kwargs):\n",
        "        self.name = 'Transformer'\n",
        "        self.len_limit = len_limit\n",
        "        self.src_loc_info = False # True # sl: fix later\n",
        "        self.d_model = d_model\n",
        "        self.decode_model = None\n",
        "        d_emb = d_model\n",
        "\n",
        "        pos_emb = Embedding(len_limit, d_emb, trainable=False, \\\n",
        "                            weights=[GetPosEncodingMatrix(len_limit, d_emb)])\n",
        "\n",
        "        i_word_emb = Embedding(max_features, d_emb, weights=[embedding_matrix]) # Add Kaggle provided embedding here\n",
        "\n",
        "        self.encoder = Encoder(d_model, d_inner_hid, n_head, d_k, d_v, layers, dropout, \\\n",
        "                               word_emb=i_word_emb, pos_emb=pos_emb)\n",
        "\n",
        "        \n",
        "    def get_pos_seq(self, x):\n",
        "        mask = K.cast(K.not_equal(x, 0), 'int32')\n",
        "        pos = K.cumsum(K.ones_like(x, 'int32'), 1)\n",
        "        return pos * mask\n",
        "\n",
        "    def compile(self, active_layers=999):\n",
        "        src_seq_input = Input(shape=(None, ))\n",
        "        x = Embedding(max_features, embed_size, weights=[embedding_matrix])(src_seq_input)\n",
        "        \n",
        "        # LSTM before attention layers\n",
        "        x = Bidirectional(LSTM(128, return_sequences=True))(x)\n",
        "        x = Bidirectional(LSTM(64, return_sequences=True))(x) \n",
        "        \n",
        "        x, slf_attn = MultiHeadAttention(n_head=3, d_model=300, d_k=64, d_v=64, dropout=0.1)(x, x, x)\n",
        "        \n",
        "        avg_pool = GlobalAveragePooling1D()(x)\n",
        "        max_pool = GlobalMaxPooling1D()(x)\n",
        "        conc = concatenate([avg_pool, max_pool])\n",
        "        conc = Dense(64, activation=\"relu\")(conc)\n",
        "        x = Dense(1, activation=\"sigmoid\")(conc)   \n",
        "        \n",
        "        \n",
        "        self.model = Model(inputs=src_seq_input, outputs=x)\n",
        "        self.model.compile(optimizer = 'adam', loss = 'mean_squared_error', metrics=['accuracy'])"
      ],
      "execution_count": 0,
      "outputs": []
    },
    {
      "cell_type": "code",
      "metadata": {
        "id": "W2WCP2V1dVMM",
        "colab_type": "code",
        "outputId": "eba9fbcc-fb60-4ca6-de19-d2b4cdda588a",
        "colab": {
          "base_uri": "https://localhost:8080/",
          "height": 34
        }
      },
      "source": [
        "print(tf.__version__)"
      ],
      "execution_count": 0,
      "outputs": [
        {
          "output_type": "stream",
          "text": [
            "2.0.0-alpha0\n"
          ],
          "name": "stdout"
        }
      ]
    },
    {
      "cell_type": "code",
      "metadata": {
        "id": "81sjpCotcJrw",
        "colab_type": "code",
        "colab": {}
      },
      "source": [
        "!pip install -q h5py pyyaml "
      ],
      "execution_count": 0,
      "outputs": []
    },
    {
      "cell_type": "code",
      "metadata": {
        "id": "nLD7FxFoxalm",
        "colab_type": "code",
        "colab": {}
      },
      "source": [
        "def build_model():\n",
        "    inp = Input(shape = (SEQ_LEN, 1))\n",
        "    \n",
        "    # LSTM before attention layers\n",
        "    x = Bidirectional(LSTM(128, return_sequences=True))(inp)\n",
        "    x = Bidirectional(LSTM(64, return_sequences=True))(x) \n",
        "        \n",
        "    x, slf_attn = MultiHeadAttention(n_head=3, d_model=300, d_k=64, d_v=64, dropout=0.1)(x, x, x)\n",
        "        \n",
        "    avg_pool = GlobalAveragePooling1D()(x)\n",
        "    max_pool = GlobalMaxPooling1D()(x)\n",
        "    conc = concatenate([avg_pool, max_pool])\n",
        "    conc = Dense(64, activation=\"relu\")(conc)\n",
        "    x = Dense(1, activation=\"sigmoid\")(conc)      \n",
        "\n",
        "    model = Model(inputs = inp, outputs = x)\n",
        "    model.compile(\n",
        "        loss = \"mean_squared_error\", \n",
        "        #optimizer = Adam(lr = config[\"lr\"], decay = config[\"lr_d\"]), \n",
        "        optimizer = \"adam\")\n",
        "    \n",
        "    # Save entire model to a HDF5 file\n",
        "    model.save_weights('stock_predictor.h5')\n",
        "    \n",
        "    return model"
      ],
      "execution_count": 0,
      "outputs": []
    },
    {
      "cell_type": "code",
      "metadata": {
        "id": "_K9Kk4BMxaln",
        "colab_type": "code",
        "colab": {}
      },
      "source": [
        "multi_head = build_model()"
      ],
      "execution_count": 0,
      "outputs": []
    },
    {
      "cell_type": "code",
      "metadata": {
        "id": "ZvzB_DR4xalo",
        "colab_type": "code",
        "outputId": "08d445f5-8856-4b0e-9f57-ec16263b487e",
        "colab": {
          "base_uri": "https://localhost:8080/",
          "height": 952
        }
      },
      "source": [
        "multi_head.summary()"
      ],
      "execution_count": 0,
      "outputs": [
        {
          "output_type": "stream",
          "text": [
            "Model: \"model\"\n",
            "__________________________________________________________________________________________________\n",
            "Layer (type)                    Output Shape         Param #     Connected to                     \n",
            "==================================================================================================\n",
            "input_1 (InputLayer)            [(None, 60, 1)]      0                                            \n",
            "__________________________________________________________________________________________________\n",
            "bidirectional (Bidirectional)   (None, 60, 256)      133120      input_1[0][0]                    \n",
            "__________________________________________________________________________________________________\n",
            "bidirectional_1 (Bidirectional) (None, 60, 128)      164352      bidirectional[0][0]              \n",
            "__________________________________________________________________________________________________\n",
            "dense (Dense)                   (None, 60, 192)      24576       bidirectional_1[0][0]            \n",
            "__________________________________________________________________________________________________\n",
            "dense_1 (Dense)                 (None, 60, 192)      24576       bidirectional_1[0][0]            \n",
            "__________________________________________________________________________________________________\n",
            "lambda (Lambda)                 (None, None, 64)     0           dense[0][0]                      \n",
            "__________________________________________________________________________________________________\n",
            "lambda_1 (Lambda)               (None, None, 64)     0           dense_1[0][0]                    \n",
            "__________________________________________________________________________________________________\n",
            "lambda_3 (Lambda)               (None, None, None)   0           lambda[0][0]                     \n",
            "                                                                 lambda_1[0][0]                   \n",
            "__________________________________________________________________________________________________\n",
            "activation (Activation)         (None, None, None)   0           lambda_3[0][0]                   \n",
            "__________________________________________________________________________________________________\n",
            "dense_2 (Dense)                 (None, 60, 192)      24576       bidirectional_1[0][0]            \n",
            "__________________________________________________________________________________________________\n",
            "dropout (Dropout)               (None, None, None)   0           activation[0][0]                 \n",
            "__________________________________________________________________________________________________\n",
            "lambda_2 (Lambda)               (None, None, 64)     0           dense_2[0][0]                    \n",
            "__________________________________________________________________________________________________\n",
            "lambda_4 (Lambda)               (None, None, 64)     0           dropout[0][0]                    \n",
            "                                                                 lambda_2[0][0]                   \n",
            "__________________________________________________________________________________________________\n",
            "lambda_5 (Lambda)               (None, None, 192)    0           lambda_4[0][0]                   \n",
            "__________________________________________________________________________________________________\n",
            "time_distributed (TimeDistribut (None, None, 300)    57900       lambda_5[0][0]                   \n",
            "__________________________________________________________________________________________________\n",
            "dropout_1 (Dropout)             (None, None, 300)    0           time_distributed[0][0]           \n",
            "__________________________________________________________________________________________________\n",
            "layer_normalization (LayerNorma (None, None, 300)    600         dropout_1[0][0]                  \n",
            "__________________________________________________________________________________________________\n",
            "global_average_pooling1d (Globa (None, 300)          0           layer_normalization[0][0]        \n",
            "__________________________________________________________________________________________________\n",
            "global_max_pooling1d (GlobalMax (None, 300)          0           layer_normalization[0][0]        \n",
            "__________________________________________________________________________________________________\n",
            "concatenate (Concatenate)       (None, 600)          0           global_average_pooling1d[0][0]   \n",
            "                                                                 global_max_pooling1d[0][0]       \n",
            "__________________________________________________________________________________________________\n",
            "dense_4 (Dense)                 (None, 64)           38464       concatenate[0][0]                \n",
            "__________________________________________________________________________________________________\n",
            "dense_5 (Dense)                 (None, 1)            65          dense_4[0][0]                    \n",
            "==================================================================================================\n",
            "Total params: 468,229\n",
            "Trainable params: 468,229\n",
            "Non-trainable params: 0\n",
            "__________________________________________________________________________________________________\n"
          ],
          "name": "stdout"
        }
      ]
    },
    {
      "cell_type": "code",
      "metadata": {
        "id": "uYTI8rxqxalp",
        "colab_type": "code",
        "outputId": "dc5ab56b-699b-4920-8523-40a66c92c155",
        "colab": {
          "base_uri": "https://localhost:8080/",
          "height": 391
        }
      },
      "source": [
        "multi_head.fit(X_train, y_train,\n",
        "                    batch_size=BATCH_SIZE,\n",
        "                    epochs=EPOCHS,\n",
        "                    validation_data=(X_valid, y_valid), \n",
        "                    #callbacks = [checkpoint , lr_reduce]\n",
        "             )"
      ],
      "execution_count": 0,
      "outputs": [
        {
          "output_type": "stream",
          "text": [
            "Train on 9402 samples, validate on 1123 samples\n",
            "Epoch 1/10\n",
            "9402/9402 [==============================] - 66s 7ms/sample - loss: 0.0608 - val_loss: 0.0012\n",
            "Epoch 2/10\n",
            "9402/9402 [==============================] - 62s 7ms/sample - loss: 0.0083 - val_loss: 0.0021\n",
            "Epoch 3/10\n",
            "9402/9402 [==============================] - 62s 7ms/sample - loss: 0.0032 - val_loss: 0.0021\n",
            "Epoch 4/10\n",
            "9402/9402 [==============================] - 61s 6ms/sample - loss: 0.0019 - val_loss: 0.0028\n",
            "Epoch 5/10\n",
            "9402/9402 [==============================] - 61s 6ms/sample - loss: 0.0015 - val_loss: 0.0024\n",
            "Epoch 6/10\n",
            "9402/9402 [==============================] - 61s 7ms/sample - loss: 0.0014 - val_loss: 0.0049\n",
            "Epoch 7/10\n",
            "9402/9402 [==============================] - 62s 7ms/sample - loss: 0.0014 - val_loss: 0.0028\n",
            "Epoch 8/10\n",
            "9402/9402 [==============================] - 62s 7ms/sample - loss: 0.0013 - val_loss: 0.0049\n",
            "Epoch 9/10\n",
            "9402/9402 [==============================] - 61s 7ms/sample - loss: 0.0013 - val_loss: 0.0043\n",
            "Epoch 10/10\n",
            "9402/9402 [==============================] - 62s 7ms/sample - loss: 0.0013 - val_loss: 0.0044\n"
          ],
          "name": "stdout"
        },
        {
          "output_type": "execute_result",
          "data": {
            "text/plain": [
              "<tensorflow.python.keras.callbacks.History at 0x7f8042611cc0>"
            ]
          },
          "metadata": {
            "tags": []
          },
          "execution_count": 43
        }
      ]
    },
    {
      "cell_type": "code",
      "metadata": {
        "id": "87b3dFT2xalr",
        "colab_type": "code",
        "outputId": "c5ed07c1-14cf-4736-833c-107965fb4061",
        "colab": {
          "base_uri": "https://localhost:8080/",
          "height": 34
        }
      },
      "source": [
        "predicted_stock_price_multi_head = multi_head.predict(X_test)\n",
        "#predicted_stock_price = scaler.inverse_transform(predicted_stock_price)\n",
        "\n",
        "\n",
        "print(type(predicted_stock_price_multi_head))"
      ],
      "execution_count": 0,
      "outputs": [
        {
          "output_type": "stream",
          "text": [
            "<class 'numpy.ndarray'>\n"
          ],
          "name": "stdout"
        }
      ]
    },
    {
      "cell_type": "code",
      "metadata": {
        "id": "za16EQWtd3T_",
        "colab_type": "code",
        "outputId": "8e2f6ad9-ccb1-4c74-cadd-f581d9112b9e",
        "colab": {
          "base_uri": "https://localhost:8080/",
          "height": 34
        }
      },
      "source": [
        "X_test.shape"
      ],
      "execution_count": 0,
      "outputs": [
        {
          "output_type": "execute_result",
          "data": {
            "text/plain": [
              "(1122, 60, 1)"
            ]
          },
          "metadata": {
            "tags": []
          },
          "execution_count": 45
        }
      ]
    },
    {
      "cell_type": "code",
      "metadata": {
        "id": "7NTKopU_xals",
        "colab_type": "code",
        "outputId": "7833bfcd-e002-4e89-d8a1-b1de7e29528d",
        "colab": {
          "base_uri": "https://localhost:8080/",
          "height": 34
        }
      },
      "source": [
        "predicted_stock_price_multi_head = np.vstack((np.full((60,1), np.nan), predicted_stock_price_multi_head))\n",
        "print(predicted_stock_price_multi_head[1000])\n"
      ],
      "execution_count": 0,
      "outputs": [
        {
          "output_type": "stream",
          "text": [
            "[0.23922271]\n"
          ],
          "name": "stdout"
        }
      ]
    },
    {
      "cell_type": "code",
      "metadata": {
        "id": "9UgEoi4jxalt",
        "colab_type": "code",
        "outputId": "3d0fa45e-105f-41f9-868a-3db6046d1812",
        "colab": {
          "base_uri": "https://localhost:8080/",
          "height": 600
        }
      },
      "source": [
        "plt.figure(figsize = (18,9))\n",
        "plt.plot(test_data, color = 'black', label = 'Ford Stock Price')\n",
        "plt.plot(predicted_stock_price_multi_head, color = 'green', label = 'Predicted Ford Mid Price')\n",
        "plt.title('Ford Mid Price Prediction', fontsize=30)\n",
        "#plt.xticks(range(0,df.shape[0],50),df['Date'].loc[::50],rotation=0)\n",
        "plt.xlabel('Date')\n",
        "plt.ylabel('Ford Mid Price')\n",
        "plt.legend(fontsize=18)\n",
        "plt.show()"
      ],
      "execution_count": 0,
      "outputs": [
        {
          "output_type": "display_data",
          "data": {
            "image/png": "[encoded data removed]",
            "text/plain": [
              "<Figure size 1296x648 with 1 Axes>"
            ]
          },
          "metadata": {
            "tags": []
          }
        }
      ]
    },
    {
      "cell_type": "code",
      "metadata": {
        "id": "u-JLVbUGqjB6",
        "colab_type": "code",
        "outputId": "4261310d-222f-4370-a6ef-f7f60ba35fb6",
        "colab": {
          "base_uri": "https://localhost:8080/",
          "height": 71
        }
      },
      "source": [
        "min_val = 1\n",
        "max_val = 0\n",
        "max_index = 0\n",
        "min_index = 0\n",
        "for i in range(0,len(predicted_stock_price_multi_head)):\n",
        "  if predicted_stock_price_multi_head[i] < min_val:\n",
        "    min_val = predicted_stock_price_multi_head[i]\n",
        "    min_index = i\n",
        "  if predicted_stock_price_multi_head[i] > max_val:\n",
        "    max_val = predicted_stock_price_multi_head[i]\n",
        "    max_index = i\n",
        "  \n",
        "risk = 0.2  \n",
        "\n",
        "if min_index<max_index:\n",
        "  covered_call_date = 0;\n",
        "  uncovered_put_date = min_index\n",
        "  expiry_call = min_index\n",
        "  expiry_put = max_index\n",
        "  strike_call = predicted_stock_price_multi_head[0] - (predicted_stock_price_multi_head[0] - min_val)*risk\n",
        "  strike_put = min_val + (max_val - min_val)*risk\n",
        "  premium_call = (predicted_stock_price_multi_head[0] - min_val)*risk\n",
        "  premium_put = (max_val - min_val)*risk\n",
        "  print(\"Write a Covered Call Option in \",covered_call_date,\" days with an expiry date in \",expiry_call,\" days, a strike price of $\",strike_call,\" per stock and a premium of $\",premium_call)\n",
        "  print(\"Write an Uncovered Put Option in \",uncovered_put_date,\" days with an expiry date in \",expiry_put,\" days, a strike price of $\",strike_put,\" per stock and a premium of $\",premium_put)\n",
        "  \n",
        "if max_index<min_index:\n",
        "  uncovered_put_date = 0;\n",
        "  covered_call_date = max_index\n",
        "  expiry_put = max_index\n",
        "  expiry_call = min_index\n",
        "  strike_put = predicted_stock_price_multi_head[1] + (max_val - predicted_stock_price_multi_head[1])*risk\n",
        "  strike_call = max_val - (max_val - min_val)*risk\n",
        "  premium_call = (max_val - predicted_stock_price_multi_head[1])*risk\n",
        "  premium_put = (max_val - min_val)*risk\n",
        "  print(\"Write an Uncovered Put Option in \",uncovered_put_date,\" days with an expiry date in \",expiry_put,\" days, a strike price of $\",strike_put,\" per stock and a premium of $\",premium_put)\n",
        "  print(\"Write a Covered Call Option in \",covered_call_date,\" days with an expiry date in \",expiry_call,\" days, a strike price of $\",strike_call,\" per stock and a premium of $\",premium_call)\n",
        " "
      ],
      "execution_count": 0,
      "outputs": [
        {
          "output_type": "stream",
          "text": [
            "Write an Uncovered Put Option in  0  days with an expiry date in  179  days, a strike price of $ [nan]  per stock and a premium of $ [0.04578633]\n",
            "Write a Covered Call Option in  179  days with an expiry date in  1147  days, a strike price of $ [0.34401619]  per stock and a premium of $ [nan]\n"
          ],
          "name": "stdout"
        }
      ]
    },
    {
      "cell_type": "code",
      "metadata": {
        "id": "bTL_aOx72Lxh",
        "colab_type": "code",
        "outputId": "a606f660-3bd0-4fc5-d697-33b0d49c43f2",
        "colab": {
          "base_uri": "https://localhost:8080/",
          "height": 34
        }
      },
      "source": [
        "cd .."
      ],
      "execution_count": 0,
      "outputs": [
        {
          "output_type": "stream",
          "text": [
            "/content\n"
          ],
          "name": "stdout"
        }
      ]
    },
    {
      "cell_type": "code",
      "metadata": {
        "id": "wYJ3DsqS2Pyj",
        "colab_type": "code",
        "outputId": "d2185b3a-2581-4090-f178-25ae78e5f237",
        "colab": {
          "base_uri": "https://localhost:8080/",
          "height": 34
        }
      },
      "source": [
        "!pwd"
      ],
      "execution_count": 0,
      "outputs": [
        {
          "output_type": "stream",
          "text": [
            "/content\n"
          ],
          "name": "stdout"
        }
      ]
    },
    {
      "cell_type": "code",
      "metadata": {
        "id": "haIu2ffG2u7o",
        "colab_type": "code",
        "outputId": "aa8c2eaa-18ad-4d85-ee1d-29a7bf34695e",
        "colab": {
          "base_uri": "https://localhost:8080/",
          "height": 700
        }
      },
      "source": [
        "!pip install simple_tensorflow_serving"
      ],
      "execution_count": 0,
      "outputs": [
        {
          "output_type": "stream",
          "text": [
            "Requirement already satisfied: simple_tensorflow_serving in /usr/local/lib/python3.6/dist-packages/simple_tensorflow_serving-0.6.6-py3.6.egg (0.6.6)\n",
            "Requirement already satisfied: pandas in /usr/local/lib/python3.6/dist-packages (from simple_tensorflow_serving) (0.24.2)\n",
            "Requirement already satisfied: numpy in /usr/local/lib/python3.6/dist-packages (from simple_tensorflow_serving) (1.16.3)\n",
            "Requirement already satisfied: protobuf in /usr/local/lib/python3.6/dist-packages (from simple_tensorflow_serving) (3.7.1)\n",
            "Requirement already satisfied: onnx in /usr/local/lib/python3.6/dist-packages/onnx-1.5.0-py3.6-linux-x86_64.egg (from simple_tensorflow_serving) (1.5.0)\n",
            "Requirement already satisfied: flask in /usr/local/lib/python3.6/dist-packages (from simple_tensorflow_serving) (1.0.2)\n",
            "Requirement already satisfied: jinja2 in /usr/local/lib/python3.6/dist-packages (from simple_tensorflow_serving) (2.10.1)\n",
            "Requirement already satisfied: flask-cors in /usr/local/lib/python3.6/dist-packages/Flask_Cors-3.0.7-py3.6.egg (from simple_tensorflow_serving) (3.0.7)\n",
            "Requirement already satisfied: requests in /usr/local/lib/python3.6/dist-packages (from simple_tensorflow_serving) (2.21.0)\n",
            "Requirement already satisfied: pillow in /usr/local/lib/python3.6/dist-packages (from simple_tensorflow_serving) (4.3.0)\n",
            "Requirement already satisfied: tensorflow in /usr/local/lib/python3.6/dist-packages (from simple_tensorflow_serving) (2.0.0a0)\n",
            "Requirement already satisfied: python-dateutil>=2.5.0 in /usr/local/lib/python3.6/dist-packages (from pandas->simple_tensorflow_serving) (2.5.3)\n",
            "Requirement already satisfied: pytz>=2011k in /usr/local/lib/python3.6/dist-packages (from pandas->simple_tensorflow_serving) (2018.9)\n",
            "Requirement already satisfied: six>=1.9 in /usr/local/lib/python3.6/dist-packages (from protobuf->simple_tensorflow_serving) (1.12.0)\n",
            "Requirement already satisfied: setuptools in /usr/local/lib/python3.6/dist-packages (from protobuf->simple_tensorflow_serving) (40.9.0)\n",
            "Requirement already satisfied: typing-extensions>=3.6.2.1 in /usr/local/lib/python3.6/dist-packages/typing_extensions-3.7.2-py3.6.egg (from onnx->simple_tensorflow_serving) (3.7.2)\n",
            "Requirement already satisfied: typing>=3.6.4 in /usr/local/lib/python3.6/dist-packages (from onnx->simple_tensorflow_serving) (3.6.6)\n",
            "Requirement already satisfied: Werkzeug>=0.14 in /usr/local/lib/python3.6/dist-packages (from flask->simple_tensorflow_serving) (0.15.2)\n",
            "Requirement already satisfied: click>=5.1 in /usr/local/lib/python3.6/dist-packages (from flask->simple_tensorflow_serving) (7.0)\n",
            "Requirement already satisfied: itsdangerous>=0.24 in /usr/local/lib/python3.6/dist-packages (from flask->simple_tensorflow_serving) (1.1.0)\n",
            "Requirement already satisfied: MarkupSafe>=0.23 in /usr/local/lib/python3.6/dist-packages (from jinja2->simple_tensorflow_serving) (1.1.1)\n",
            "Requirement already satisfied: chardet<3.1.0,>=3.0.2 in /usr/local/lib/python3.6/dist-packages (from requests->simple_tensorflow_serving) (3.0.4)\n",
            "Requirement already satisfied: certifi>=2017.4.17 in /usr/local/lib/python3.6/dist-packages (from requests->simple_tensorflow_serving) (2019.3.9)\n",
            "Requirement already satisfied: urllib3<1.25,>=1.21.1 in /usr/local/lib/python3.6/dist-packages (from requests->simple_tensorflow_serving) (1.24.2)\n",
            "Requirement already satisfied: idna<2.9,>=2.5 in /usr/local/lib/python3.6/dist-packages (from requests->simple_tensorflow_serving) (2.8)\n",
            "Requirement already satisfied: olefile in /usr/local/lib/python3.6/dist-packages (from pillow->simple_tensorflow_serving) (0.46)\n",
            "Requirement already satisfied: google-pasta>=0.1.2 in /usr/local/lib/python3.6/dist-packages (from tensorflow->simple_tensorflow_serving) (0.1.5)\n",
            "Requirement already satisfied: tb-nightly<1.14.0a20190302,>=1.14.0a20190301 in /usr/local/lib/python3.6/dist-packages (from tensorflow->simple_tensorflow_serving) (1.14.0a20190301)\n",
            "Requirement already satisfied: wheel>=0.26 in /usr/local/lib/python3.6/dist-packages (from tensorflow->simple_tensorflow_serving) (0.33.1)\n",
            "Requirement already satisfied: keras-preprocessing>=1.0.5 in /usr/local/lib/python3.6/dist-packages (from tensorflow->simple_tensorflow_serving) (1.0.9)\n",
            "Requirement already satisfied: keras-applications>=1.0.6 in /usr/local/lib/python3.6/dist-packages (from tensorflow->simple_tensorflow_serving) (1.0.7)\n",
            "Requirement already satisfied: astor>=0.6.0 in /usr/local/lib/python3.6/dist-packages (from tensorflow->simple_tensorflow_serving) (0.7.1)\n",
            "Requirement already satisfied: grpcio>=1.8.6 in /usr/local/lib/python3.6/dist-packages (from tensorflow->simple_tensorflow_serving) (1.15.0)\n",
            "Requirement already satisfied: termcolor>=1.1.0 in /usr/local/lib/python3.6/dist-packages (from tensorflow->simple_tensorflow_serving) (1.1.0)\n",
            "Requirement already satisfied: absl-py>=0.7.0 in /usr/local/lib/python3.6/dist-packages (from tensorflow->simple_tensorflow_serving) (0.7.1)\n",
            "Requirement already satisfied: tf-estimator-nightly<1.14.0.dev2019030116,>=1.14.0.dev2019030115 in /usr/local/lib/python3.6/dist-packages (from tensorflow->simple_tensorflow_serving) (1.14.0.dev2019030115)\n",
            "Requirement already satisfied: gast>=0.2.0 in /usr/local/lib/python3.6/dist-packages (from tensorflow->simple_tensorflow_serving) (0.2.2)\n",
            "Requirement already satisfied: markdown>=2.6.8 in /usr/local/lib/python3.6/dist-packages (from tb-nightly<1.14.0a20190302,>=1.14.0a20190301->tensorflow->simple_tensorflow_serving) (3.1)\n",
            "Requirement already satisfied: h5py in /usr/local/lib/python3.6/dist-packages (from keras-applications>=1.0.6->tensorflow->simple_tensorflow_serving) (2.8.0)\n"
          ],
          "name": "stdout"
        }
      ]
    },
    {
      "cell_type": "code",
      "metadata": {
        "id": "_XzgSIDD24JB",
        "colab_type": "code",
        "colab": {}
      },
      "source": [
        "simple_tensorflow_serving --model_base_path=\"./models/tensorflow_template_application_model\""
      ],
      "execution_count": 0,
      "outputs": []
    }
  ]
}